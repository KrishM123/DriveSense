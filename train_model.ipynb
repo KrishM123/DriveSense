{
 "cells": [
  {
   "cell_type": "code",
   "execution_count": 15,
   "metadata": {},
   "outputs": [],
   "source": [
    "EPOCHS = 25\n",
    "BATCH = 12\n",
    "IMG_SIZE = (600,800)"
   ]
  },
  {
   "cell_type": "code",
   "execution_count": 16,
   "metadata": {},
   "outputs": [],
   "source": [
    "from ultralytics import YOLO\n",
    "from IPython.display import Image, display\n",
    "from IPython import display\n",
    "import os"
   ]
  },
  {
   "cell_type": "code",
   "execution_count": 17,
   "metadata": {},
   "outputs": [
    {
     "name": "stdout",
     "output_type": "stream",
     "text": [
      "^C\n",
      "Traceback (most recent call last):\n",
      "  File \"/Users/aly/opt/miniconda3/envs/ai-hackathons/bin/yolo\", line 5, in <module>\n",
      "    from ultralytics.cfg import entrypoint\n",
      "  File \"/Users/aly/opt/miniconda3/envs/ai-hackathons/lib/python3.11/site-packages/ultralytics/__init__.py\", line 5, in <module>\n",
      "    from ultralytics.models import RTDETR, SAM, YOLO\n",
      "  File \"/Users/aly/opt/miniconda3/envs/ai-hackathons/lib/python3.11/site-packages/ultralytics/models/__init__.py\", line 3, in <module>\n",
      "    from .rtdetr import RTDETR\n",
      "  File \"/Users/aly/opt/miniconda3/envs/ai-hackathons/lib/python3.11/site-packages/ultralytics/models/rtdetr/__init__.py\", line 3, in <module>\n",
      "    from .model import RTDETR\n",
      "  File \"/Users/aly/opt/miniconda3/envs/ai-hackathons/lib/python3.11/site-packages/ultralytics/models/rtdetr/model.py\", line 5, in <module>\n",
      "    from ultralytics.engine.model import Model\n",
      "  File \"/Users/aly/opt/miniconda3/envs/ai-hackathons/lib/python3.11/site-packages/ultralytics/engine/model.py\", line 8, in <module>\n",
      "    from ultralytics.cfg import TASK2DATA, get_cfg, get_save_dir\n",
      "  File \"/Users/aly/opt/miniconda3/envs/ai-hackathons/lib/python3.11/site-packages/ultralytics/cfg/__init__.py\", line 11, in <module>\n",
      "    from ultralytics.utils import (ASSETS, DEFAULT_CFG, DEFAULT_CFG_DICT, DEFAULT_CFG_PATH, LOGGER, RANK, SETTINGS,\n",
      "  File \"/Users/aly/opt/miniconda3/envs/ai-hackathons/lib/python3.11/site-packages/ultralytics/utils/__init__.py\", line 18, in <module>\n",
      "    import cv2\n",
      "  File \"/Users/aly/opt/miniconda3/envs/ai-hackathons/lib/python3.11/site-packages/cv2/__init__.py\", line 11, in <module>\n",
      "    import numpy\n",
      "  File \"/Users/aly/opt/miniconda3/envs/ai-hackathons/lib/python3.11/site-packages/numpy/__init__.py\", line 152, in <module>\n",
      "    from . import random\n",
      "  File \"/Users/aly/opt/miniconda3/envs/ai-hackathons/lib/python3.11/site-packages/numpy/random/__init__.py\", line 180, in <module>\n",
      "    from . import _pickle\n",
      "  File \"/Users/aly/opt/miniconda3/envs/ai-hackathons/lib/python3.11/site-packages/numpy/random/_pickle.py\", line 1, in <module>\n",
      "    from .mtrand import RandomState\n",
      "  File \"mtrand.pyx\", line 1, in init numpy.random.mtrand\n",
      "  File \"<frozen importlib._bootstrap>\", line 405, in parent\n",
      "KeyboardInterrupt\n"
     ]
    }
   ],
   "source": [
    "!yolo task=detect mode=train model=yolov8s.pt data=trafficLights.yaml epochs=20 imgsz=600 batch=12"
   ]
  },
  {
   "cell_type": "code",
   "execution_count": null,
   "metadata": {},
   "outputs": [],
   "source": []
  }
 ],
 "metadata": {
  "kernelspec": {
   "display_name": "ai-hackathons",
   "language": "python",
   "name": "python3"
  },
  "language_info": {
   "codemirror_mode": {
    "name": "ipython",
    "version": 3
   },
   "file_extension": ".py",
   "mimetype": "text/x-python",
   "name": "python",
   "nbconvert_exporter": "python",
   "pygments_lexer": "ipython3",
   "version": "3.11.4"
  },
  "orig_nbformat": 4
 },
 "nbformat": 4,
 "nbformat_minor": 2
}
